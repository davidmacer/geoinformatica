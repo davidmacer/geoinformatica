{
 "metadata": {
  "language_info": {
   "codemirror_mode": {
    "name": "ipython",
    "version": 3
   },
   "file_extension": ".py",
   "mimetype": "text/x-python",
   "name": "python",
   "nbconvert_exporter": "python",
   "pygments_lexer": "ipython3",
   "version": "3.8.5"
  },
  "orig_nbformat": 2,
  "kernelspec": {
   "name": "python385jvsc74a57bd031f2aee4e71d21fbe5cf8b01ff0e069b9275f58929596ceb00d14d90e3e16cd6",
   "display_name": "Python 3.8.5 64-bit"
  },
  "metadata": {
   "interpreter": {
    "hash": "31f2aee4e71d21fbe5cf8b01ff0e069b9275f58929596ceb00d14d90e3e16cd6"
   }
  }
 },
 "nbformat": 4,
 "nbformat_minor": 2,
 "cells": [
  {
   "source": [
    "La función `es_palindromo` calcula si una palabra o frase dada es un palíndromo. No tiene argumentos de entrada, sino que pide al usuario que escriba una palabra o frase en el _prompt_ y enseguida realiza la comparación de la palabra."
   ],
   "cell_type": "markdown",
   "metadata": {}
  },
  {
   "cell_type": "code",
   "execution_count": null,
   "metadata": {},
   "outputs": [],
   "source": [
    "def es_palindromo():\n",
    "    import hashlib\n",
    "\n",
    "    frase_original = input(\"Escribe tu frase o palabra\")\n",
    "    \n",
    "    frase = frase_original.lower()\n",
    "    \n",
    "    frase_separada = frase.split(' ')\n",
    "    frase_invertida = ' '.join(reversed(frase)) \n",
    "    \n",
    "    frase = frase.replace(' ', '')\n",
    "    frase_invertida = frase_invertida.replace(' ', '')    \n",
    "    \n",
    "    for i in range(0,len(frase)):\n",
    "        if frase[i] != frase_invertida[i]:\n",
    "            es_pal = False\n",
    "        else:\n",
    "            es_pal = True\n",
    "\n",
    "    if (es_pal):\n",
    "        print(\"La palabra o frase dada sí es un palíndromo.\")\n",
    "    else:\n",
    "        print(\"La palabra o frase dada no es un palíndromo.\")\n",
    "\n"
   ]
  },
  {
   "cell_type": "code",
   "execution_count": null,
   "metadata": {},
   "outputs": [],
   "source": [
    "es_palindromo()"
   ]
  }
 ]
}